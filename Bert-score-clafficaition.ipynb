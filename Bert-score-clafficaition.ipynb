{
 "cells": [
  {
   "cell_type": "markdown",
   "metadata": {},
   "source": [
    "# Calculating the num of types"
   ]
  },
  {
   "cell_type": "code",
   "execution_count": 1,
   "metadata": {},
   "outputs": [
    {
     "ename": "TypeError",
     "evalue": "__init__() got an unexpected keyword argument 'verbose'",
     "output_type": "error",
     "traceback": [
      "\u001b[0;31m---------------------------------------------------------------------------\u001b[0m",
      "\u001b[0;31mTypeError\u001b[0m                                 Traceback (most recent call last)",
      "\u001b[0;32m<ipython-input-1-e7c6063dd884>\u001b[0m in \u001b[0;36m<module>\u001b[0;34m\u001b[0m\n\u001b[1;32m      1\u001b[0m \u001b[0;32mfrom\u001b[0m \u001b[0mbert_score\u001b[0m \u001b[0;32mimport\u001b[0m \u001b[0mBERTScorer\u001b[0m\u001b[0;34m\u001b[0m\u001b[0;34m\u001b[0m\u001b[0m\n\u001b[0;32m----> 2\u001b[0;31m \u001b[0mscorer\u001b[0m \u001b[0;34m=\u001b[0m \u001b[0mBERTScorer\u001b[0m\u001b[0;34m(\u001b[0m\u001b[0mlang\u001b[0m\u001b[0;34m=\u001b[0m\u001b[0;34m\"en\"\u001b[0m\u001b[0;34m,\u001b[0m \u001b[0mverbose\u001b[0m\u001b[0;34m=\u001b[0m\u001b[0;32mTrue\u001b[0m\u001b[0;34m)\u001b[0m\u001b[0;34m\u001b[0m\u001b[0;34m\u001b[0m\u001b[0m\n\u001b[0m\u001b[1;32m      3\u001b[0m \u001b[0mPrecision\u001b[0m\u001b[0;34m,\u001b[0m \u001b[0mRecall\u001b[0m\u001b[0;34m,\u001b[0m \u001b[0mF1\u001b[0m \u001b[0;34m=\u001b[0m \u001b[0mscorer\u001b[0m\u001b[0;34m.\u001b[0m\u001b[0mscore\u001b[0m\u001b[0;34m(\u001b[0m\u001b[0mpredictions\u001b[0m\u001b[0;34m,\u001b[0m \u001b[0mtargets\u001b[0m\u001b[0;34m)\u001b[0m\u001b[0;34m\u001b[0m\u001b[0;34m\u001b[0m\u001b[0m\n",
      "\u001b[0;31mTypeError\u001b[0m: __init__() got an unexpected keyword argument 'verbose'"
     ]
    }
   ],
   "source": [
    "from bert_score import BERTScorer\n",
    "scorer = BERTScorer(lang=\"en\", verbose=True)\n",
    "Precision, Recall, F1 = scorer.score(predictions, targets)"
   ]
  },
  {
   "cell_type": "code",
   "execution_count": 16,
   "metadata": {},
   "outputs": [],
   "source": [
    "with open(os.path.join(f'Exp/Exp62/save/ET_test_outputs_test.txt'), 'r', encoding='utf-8') as f:\n",
    "    predictions = f.readlines()\n",
    "with open(os.path.join(f'Exp/Exp62/save/ET_test_targets_test.txt'), 'r', encoding='utf-8') as f:\n",
    "    targets = f.readlines()"
   ]
  },
  {
   "cell_type": "code",
   "execution_count": 17,
   "metadata": {},
   "outputs": [
    {
     "name": "stdout",
     "output_type": "stream",
     "text": [
      "22340\n",
      "22340\n"
     ]
    }
   ],
   "source": [
    "print(len(predictions))\n",
    "print(len(targets))"
   ]
  },
  {
   "cell_type": "code",
   "execution_count": 18,
   "metadata": {},
   "outputs": [
    {
     "name": "stdout",
     "output_type": "stream",
     "text": [
      "wikicat St. Mirren F.C. players [sep]\n",
      "\n",
      "wikicat Living people [sep] wikicat Hartlepool United F.C. players [sep] wikicat Clyde F.C. players [sep] wikicat Dundee F.C. players [sep] wikicat St. Mirren F.C. players [sep] wikicat Scottish Football League managers [sep] wikicat Scotland international footballers [sep] wikicat Forfar Athletic F.C. players [sep] wikicat Dumbarton F.C.\n",
      "\n"
     ]
    }
   ],
   "source": [
    "print(targets[0])\n",
    "print(predictions[0])"
   ]
  },
  {
   "cell_type": "code",
   "execution_count": 19,
   "metadata": {},
   "outputs": [],
   "source": [
    "pred_tokens = []\n",
    "tgt_tokens = []\n",
    "for i in range(len(predictions)):\n",
    "  pred_tokens.extend(predictions[i].split(\"[sep]\"))\n",
    "  tgt_tokens.extend(targets[i].split(\"[sep]\"))"
   ]
  },
  {
   "cell_type": "code",
   "execution_count": 20,
   "metadata": {},
   "outputs": [
    {
     "name": "stdout",
     "output_type": "stream",
     "text": [
      "173093\n",
      "65448\n"
     ]
    }
   ],
   "source": [
    "print(len(pred_tokens))\n",
    "print(len(tgt_tokens))"
   ]
  },
  {
   "cell_type": "code",
   "execution_count": 21,
   "metadata": {},
   "outputs": [
    {
     "data": {
      "image/png": "[encoded data removed]",
      "text/plain": [
       "<Figure size 432x288 with 1 Axes>"
      ]
     },
     "metadata": {
      "needs_background": "light"
     },
     "output_type": "display_data"
    }
   ],
   "source": [
    "%matplotlib inline \n",
    "import matplotlib.pyplot as plt\n",
    "import numpy as np\n",
    "\n",
    "# ターゲットの平均個数\n",
    "num_tokens = []\n",
    "for i in range(len(targets)):\n",
    "  num_tokens.append(len(targets[i].split(\"[sep]\")))\n",
    "# math = [162, 168, 172, 181, 176, 168, 173, 175, 162, 169]\n",
    "x = np.array(num_tokens)\n",
    "plt.title('count types')\n",
    "plt.grid() # 横線ラインを入れることができます。\n",
    "\n",
    "plt.boxplot(x)\n",
    "plt.show()"
   ]
  },
  {
   "cell_type": "code",
   "execution_count": 22,
   "metadata": {},
   "outputs": [
    {
     "data": {
      "image/png": "[encoded data removed]",
      "text/plain": [
       "<Figure size 432x288 with 1 Axes>"
      ]
     },
     "metadata": {
      "needs_background": "light"
     },
     "output_type": "display_data"
    }
   ],
   "source": [
    "%matplotlib inline \n",
    "import matplotlib.pyplot as plt\n",
    "import numpy as np\n",
    "\n",
    "# 出力の平均個数\n",
    "num_tokens = []\n",
    "for i in range(len(predictions)):\n",
    "  num_tokens.append(len(predictions[i].split(\"[sep]\")))\n",
    "# math = [162, 168, 172, 181, 176, 168, 173, 175, 162, 169]\n",
    "x = np.array(num_tokens)\n",
    "plt.title('count types')\n",
    "plt.grid() # 横線ラインを入れることができます。\n",
    "\n",
    "plt.boxplot(x)\n",
    "plt.show()"
   ]
  },
  {
   "cell_type": "code",
   "execution_count": 24,
   "metadata": {},
   "outputs": [
    {
     "data": {
      "text/plain": [
       "['wikicat St. Mirren F.C. players ', '\\n']"
      ]
     },
     "execution_count": 24,
     "metadata": {},
     "output_type": "execute_result"
    }
   ],
   "source": [
    "targets[0].split(\"[sep]\")"
   ]
  },
  {
   "cell_type": "code",
   "execution_count": 25,
   "metadata": {},
   "outputs": [
    {
     "data": {
      "text/plain": [
       "['wikicat Film directors from Missouri ', '\\n']"
      ]
     },
     "execution_count": 25,
     "metadata": {},
     "output_type": "execute_result"
    }
   ],
   "source": [
    "targets[1].split(\"[sep]\")"
   ]
  },
  {
   "cell_type": "code",
   "execution_count": 27,
   "metadata": {},
   "outputs": [
    {
     "data": {
      "text/plain": [
       "['wikicat St. Mirren F.C. players [sep]\\n',\n",
       " 'wikicat Film directors from Missouri [sep]\\n',\n",
       " 'wikicat Notts County F.C. players [sep]\\n',\n",
       " 'wikicat States and territories established in 1649 [sep]\\n',\n",
       " 'wikicat Provinces of Belgium [sep]\\n',\n",
       " 'wordnet county 108546183 [sep]\\n',\n",
       " 'wikicat Tamil film editors [sep]\\n',\n",
       " 'wikicat Former Indian capital cities [sep]\\n',\n",
       " 'wordnet club 108227214 [sep]\\n',\n",
       " 'wikicat Degerfors IF players [sep] wikicat Expatriate footballers in Italy [sep] wikicat Association football central defenders [sep] wikicat Aston Villa F.C. players [sep]\\n']"
      ]
     },
     "execution_count": 27,
     "metadata": {},
     "output_type": "execute_result"
    }
   ],
   "source": [
    "targets[0:10]"
   ]
  },
  {
   "cell_type": "code",
   "execution_count": 31,
   "metadata": {},
   "outputs": [
    {
     "data": {
      "image/png": "[encoded data removed]",
      "text/plain": [
       "<Figure size 432x288 with 1 Axes>"
      ]
     },
     "metadata": {
      "needs_background": "light"
     },
     "output_type": "display_data"
    }
   ],
   "source": [
    "%matplotlib inline \n",
    "import matplotlib.pyplot as plt\n",
    "import numpy as np\n",
    "\n",
    "# ターゲットの平均個数\n",
    "num_tokens = []\n",
    "for i in range(len(targets)):\n",
    "  num_tokens.append(len([item for item in targets[i].split(\"[sep]\") if item!=\"\\n\"]))\n",
    "# math = [162, 168, 172, 181, 176, 168, 173, 175, 162, 169]\n",
    "x = np.array(num_tokens)\n",
    "plt.title('count types')\n",
    "plt.grid() # 横線ラインを入れることができます。\n",
    "\n",
    "plt.boxplot(x)\n",
    "plt.show()"
   ]
  },
  {
   "cell_type": "code",
   "execution_count": 33,
   "metadata": {},
   "outputs": [
    {
     "data": {
      "image/png": "[encoded data removed]",
      "text/plain": [
       "<Figure size 432x288 with 1 Axes>"
      ]
     },
     "metadata": {
      "needs_background": "light"
     },
     "output_type": "display_data"
    }
   ],
   "source": [
    "%matplotlib inline \n",
    "import matplotlib.pyplot as plt\n",
    "import numpy as np\n",
    "\n",
    "# 出力の平均個数\n",
    "num_tokens = []\n",
    "for i in range(len(predictions)):\n",
    "  num_tokens.append(len([item for item in predictions[i].split(\"[sep]\") if item!=\"\\n\"]))\n",
    "# math = [162, 168, 172, 181, 176, 168, 173, 175, 162, 169]\n",
    "x = np.array(num_tokens)\n",
    "plt.title('count types')\n",
    "plt.grid() # 横線ラインを入れることができます。\n",
    "\n",
    "plt.boxplot(x)\n",
    "plt.show()"
   ]
  },
  {
   "cell_type": "markdown",
   "metadata": {},
   "source": [
    "# Matching algorithm using Bert score\n",
    "\n",
    "## Definition\n",
    "$$\n",
    "Tokens = {tokens(1), tokens(2), token(3), ..., tokens(n)}\n",
    "$$\n",
    "\n",
    "$$\n",
    "Tokens' = {tokens'(1), tokens'(2), token'(3), ..., tokens'(n')}\n",
    "$$\n",
    "\n",
    "n : the length of target tokens\n",
    "\n",
    "n' : the length of generated tokens\n",
    "\n",
    "## Algorithm\n",
    "$$\n",
    "\\argmax_{Tokens(i), Tokens'(j)} (P_{ij}) \\quad  (i: 1 \\quad to \\quad n,\\quad  j: \\quad 1 \\quad to \\quad n')\n",
    "$$\n",
    "\n",
    "$$\n",
    "P_{ij} = softmax(BERT_{SCORE}(Tokens(i), Tokens'(j)))\n",
    "$$\n",
    "\n",
    "$$\n",
    "Tokens = Tokens - Tokens(i)\n",
    "$$\n",
    "\n",
    "$$\n",
    "Tokens' = Tokens' - Tokens'(j)\n",
    "$$\n",
    "\n",
    "iterate this loop until Tokens or Tokens' are null."
   ]
  },
  {
   "cell_type": "code",
   "execution_count": 3,
   "metadata": {},
   "outputs": [
    {
     "data": {
      "application/vnd.jupyter.widget-view+json": {
       "model_id": "eebda456802c45f1b797bc337bde6f5c",
       "version_major": 2,
       "version_minor": 0
      },
      "text/plain": [
       "Downloading:   0%|          | 0.00/1.43G [00:00<?, ?B/s]"
      ]
     },
     "metadata": {},
     "output_type": "display_data"
    },
    {
     "ename": "NameError",
     "evalue": "name 'predictions' is not defined",
     "output_type": "error",
     "traceback": [
      "\u001b[0;31m---------------------------------------------------------------------------\u001b[0m",
      "\u001b[0;31mNameError\u001b[0m                                 Traceback (most recent call last)",
      "\u001b[0;32m<ipython-input-3-c1e3ba0b74de>\u001b[0m in \u001b[0;36m<module>\u001b[0;34m\u001b[0m\n\u001b[1;32m      1\u001b[0m \u001b[0;32mfrom\u001b[0m \u001b[0mbert_score\u001b[0m \u001b[0;32mimport\u001b[0m \u001b[0mBERTScorer\u001b[0m\u001b[0;34m\u001b[0m\u001b[0;34m\u001b[0m\u001b[0m\n\u001b[1;32m      2\u001b[0m \u001b[0mscorer\u001b[0m \u001b[0;34m=\u001b[0m \u001b[0mBERTScorer\u001b[0m\u001b[0;34m(\u001b[0m\u001b[0mlang\u001b[0m\u001b[0;34m=\u001b[0m\u001b[0;34m\"en\"\u001b[0m\u001b[0;34m)\u001b[0m\u001b[0;34m\u001b[0m\u001b[0;34m\u001b[0m\u001b[0m\n\u001b[0;32m----> 3\u001b[0;31m \u001b[0mPrecision\u001b[0m\u001b[0;34m,\u001b[0m \u001b[0mRecall\u001b[0m\u001b[0;34m,\u001b[0m \u001b[0mF1\u001b[0m \u001b[0;34m=\u001b[0m \u001b[0mscorer\u001b[0m\u001b[0;34m.\u001b[0m\u001b[0mscore\u001b[0m\u001b[0;34m(\u001b[0m\u001b[0mpredictions\u001b[0m\u001b[0;34m,\u001b[0m \u001b[0mtargets\u001b[0m\u001b[0;34m)\u001b[0m\u001b[0;34m\u001b[0m\u001b[0;34m\u001b[0m\u001b[0m\n\u001b[0m",
      "\u001b[0;31mNameError\u001b[0m: name 'predictions' is not defined"
     ]
    }
   ],
   "source": [
    "from bert_score import BERTScorer\n",
    "scorer = BERTScorer(lang=\"en\")\n",
    "Precision, Recall, F1 = scorer.score(predictions, targets)"
   ]
  },
  {
   "cell_type": "markdown",
   "metadata": {},
   "source": [
    "#  清書"
   ]
  },
  {
   "cell_type": "code",
   "execution_count": 2,
   "metadata": {},
   "outputs": [],
   "source": [
    "with open(os.path.join(f'Exp/Exp62/save/ET_test_outputs_test.txt'), 'r', encoding='utf-8') as f:\n",
    "    predictions = f.readlines()\n",
    "with open(os.path.join(f'Exp/Exp62/save/ET_test_targets_test.txt'), 'r', encoding='utf-8') as f:\n",
    "    targets = f.readlines()"
   ]
  },
  {
   "cell_type": "code",
   "execution_count": 3,
   "metadata": {},
   "outputs": [],
   "source": [
    "predictions_tokens = []\n",
    "targets_tokens = []\n",
    "for i in range(len(predictions)):\n",
    "  predictions_tokens.append([item.strip() for item in predictions[i].strip().split(\"[sep]\") if item!=\"\\n\" and item!=''])\n",
    "for i in range(len(targets)):\n",
    "  targets_tokens.append([item.strip() for item in targets[i].strip().split(\"[sep]\") if item!=\"\\n\" and item!=''])"
   ]
  },
  {
   "cell_type": "code",
   "execution_count": null,
   "metadata": {},
   "outputs": [],
   "source": [
    "from bert_score import BERTScorer\n",
    "import torch\n",
    "import nltk.translate.bleu_score as bleu\n",
    "def calc_bert_classification(predictions_tokens, targets_tokens):\n",
    "  list_all_combination_target = []\n",
    "  list_all_combination_prediction = []\n",
    "  list_combination_count = []\n",
    "  for i in range(len(targets_tokens)):\n",
    "    for j in range(len(targets_tokens[i])):\n",
    "      for l in range(len(predictions_tokens[i])):\n",
    "        list_all_combination_target.append(targets_tokens[i][j])\n",
    "        list_all_combination_prediction.append(predictions_tokens[i][l])\n",
    "    list_combination_count.append(len(targets_tokens[i]) * len(predictions_tokens[i]))\n",
    "\n",
    "  scorer = BERTScorer(lang=\"en\")\n",
    "  Precision, Recall, F1 = scorer.score(list_all_combination_prediction, list_all_combination_target)\n",
    "\n",
    "  def cumsum(comb_list: list):\n",
    "    sum_comb_list = []\n",
    "    sum = 0\n",
    "    for item in comb_list:\n",
    "      sum_comb_list.append(sum+item)\n",
    "      sum += item\n",
    "    return sum_comb_list\n",
    "  list_combination_count_with_zero = [0] + list_combination_count\n",
    "  sum = 0\n",
    "  sum_combination_count = cumsum(list_combination_count_with_zero)\n",
    "    \n",
    "  for i in range(1,len(list_combination_count_with_zero)):\n",
    "    tmp_combination_targets = list_all_combination_target[sum_combination_count[i-1]:sum_combination_count[i]]\n",
    "    tmp_combination_predictions = list_all_combination_prediction[sum_combination_count[i-1]:sum_combination_count[i]]\n",
    "    tmp_Precision = Precision[sum_combination_count[i-1]:sum_combination_count[i]]\n",
    "    tmp_Recall = Recall[sum_combination_count[i-1]:sum_combination_count[i]]\n",
    "    tmp_F1 = F1[sum_combination_count[i-1]:sum_combination_count[i]]\n",
    "    assert len(tmp_combination_targets)==len(tmp_combination_predictions)\n",
    "    assert len(tmp_combination_predictions)==len(tmp_F1)\n",
    "\n",
    "    list_comb = []\n",
    "    # loop until tmp_F1 is null\n",
    "    while len(tmp_F1) != 0:\n",
    "      # get max index\n",
    "      max_index = torch.argmax(tmp_F1)\n",
    "\n",
    "      # get combination\n",
    "      list_comb.append(tuple((tmp_combination_predictions[max_index], tmp_combination_targets[max_index])))\n",
    "\n",
    "      # remove entity from tmp_combination_targets and tmp_combination_predictions\n",
    "      list_delete_target_index = []\n",
    "      list_delete_prediction_index = []\n",
    "      for index, item in enumerate(tmp_combination_targets):\n",
    "        if item==tmp_combination_targets[max_index]:\n",
    "          list_delete_target_index.append(index)\n",
    "      for index, item in enumerate(tmp_combination_predictions):\n",
    "        if item==tmp_combination_predictions[max_index]:\n",
    "          list_delete_prediction_index.append(index)\n",
    "      list_select_index = []\n",
    "      for i in range(len(tmp_F1)):\n",
    "        if len(list_delete_prediction_index) > 0 and i==list_delete_prediction_index[0] and len(list_delete_target_index) > 0 and i==list_delete_target_index[0]:\n",
    "          list_delete_prediction_index.pop(0)\n",
    "          list_delete_target_index.pop(0)\n",
    "        elif len(list_delete_prediction_index) > 0 and i==list_delete_prediction_index[0]:\n",
    "          list_delete_prediction_index.pop(0)\n",
    "        elif len(list_delete_target_index) > 0 and i==list_delete_target_index[0]:\n",
    "          list_delete_target_index.pop(0)\n",
    "        else:\n",
    "          list_select_index.append(i)\n",
    "      if len(list_select_index) > 0:\n",
    "        tmp_F1 = torch.index_select(tmp_F1, 0, torch.tensor(list_select_index))\n",
    "        tmp_combination_targets = [item for i, item in enumerate(tmp_combination_targets) if i in list_select_index]\n",
    "        tmp_combination_predictions = [item for i, item in enumerate(tmp_combination_predictions) if i in list_select_index]\n",
    "      else:\n",
    "        tmp_F1 = torch.Tensor()\n",
    "        tmp_combination_targets = []\n",
    "        tmp_combination_predictions = []\n",
    "      assert len(tmp_combination_targets)==len(tmp_combination_predictions)\n",
    "      assert len(tmp_combination_predictions)==len(tmp_F1)\n",
    "\n",
    "    def evaluate_score(list_comb):\n",
    "      predicts = []\n",
    "      targets = []\n",
    "      for index_list_comb in range(list_comb):\n",
    "        predict, target = list_comb[index_list_comb]\n",
    "        predicts.append(predict)\n",
    "        targets.append(target)\n",
    "      # calc bleu score\n",
    "      total_score_1gram = 0\n",
    "      total_score_2gram = 0\n",
    "      total_score_3gram = 0\n",
    "      total_score_4gram = 0\n",
    "\n",
    "      for tgt, pred in zip(targets, predictions):\n",
    "          hyp = pred.split()\n",
    "          ref = tgt.split()\n",
    "          total_score_1gram += bleu.sentence_bleu([ref], hyp, weights=(1, 0, 0, 0))\n",
    "          total_score_2gram += bleu.sentence_bleu([ref], hyp, weights=(0, 1, 0, 0))\n",
    "          total_score_3gram += bleu.sentence_bleu([ref], hyp, weights=(0, 0, 1, 0))\n",
    "          total_score_4gram += bleu.sentence_bleu([ref], hyp, weights=(0, 0, 0, 1))\n",
    "      score_1gram = total_score_1gram/len(targets)\n",
    "      score_2gram = total_score_2gram/len(targets)\n",
    "      score_3gram = total_score_3gram/len(targets)\n",
    "      score_4gram = total_score_4gram/len(targets)\n",
    "\n",
    "      return score_1gram, score_2gram, score_3gram, score_4gram\n",
    "      \n"
   ]
  },
  {
   "cell_type": "code",
   "execution_count": 4,
   "metadata": {},
   "outputs": [],
   "source": [
    "list_all_combination_target = []\n",
    "list_all_combination_prediction = []\n",
    "list_combination_count = []\n",
    "for i in range(len(targets_tokens)):\n",
    "  for j in range(len(targets_tokens[i])):\n",
    "    for l in range(len(predictions_tokens[i])):\n",
    "      list_all_combination_target.append(targets_tokens[i][j])\n",
    "      list_all_combination_prediction.append(predictions_tokens[i][l])\n",
    "  list_combination_count.append(len(targets_tokens[i]) * len(predictions_tokens[i]))\n",
    "  if i > 10:\n",
    "    break"
   ]
  },
  {
   "cell_type": "code",
   "execution_count": 5,
   "metadata": {},
   "outputs": [],
   "source": [
    "from bert_score import BERTScorer\n",
    "scorer = BERTScorer(lang=\"en\")\n",
    "Precision, Recall, F1 = scorer.score(list_all_combination_prediction, list_all_combination_target)"
   ]
  },
  {
   "cell_type": "code",
   "execution_count": 19,
   "metadata": {},
   "outputs": [],
   "source": [
    "def cumsum(comb_list: list):\n",
    "  sum_comb_list = []\n",
    "  sum = 0\n",
    "  for item in comb_list:\n",
    "    sum_comb_list.append(sum+item)\n",
    "    sum += item\n",
    "  return sum_comb_list\n",
    "list_combination_count_with_zero = [0] + list_combination_count\n",
    "sum = 0\n",
    "sum_combination_count = cumsum(list_combination_count_with_zero)\n",
    "  \n",
    "import torch\n",
    "for i in range(1,len(list_combination_count_with_zero)):\n",
    "  tmp_combination_targets = list_all_combination_target[sum_combination_count[i-1]:sum_combination_count[i]]\n",
    "  tmp_combination_predictions = list_all_combination_prediction[sum_combination_count[i-1]:sum_combination_count[i]]\n",
    "  tmp_Precision = Precision[sum_combination_count[i-1]:sum_combination_count[i]]\n",
    "  tmp_Recall = Recall[sum_combination_count[i-1]:sum_combination_count[i]]\n",
    "  tmp_F1 = F1[sum_combination_count[i-1]:sum_combination_count[i]]\n",
    "  assert len(tmp_combination_targets)==len(tmp_combination_predictions)\n",
    "  assert len(tmp_combination_predictions)==len(tmp_F1)\n",
    "\n",
    "  list_comb = []\n",
    "  # loop until tmp_F1 is null\n",
    "  while len(tmp_F1) != 0:\n",
    "    # get max index\n",
    "    max_index = torch.argmax(tmp_F1)\n",
    "\n",
    "    # get combination\n",
    "    list_comb.append(tuple((tmp_combination_predictions[max_index], tmp_combination_targets[max_index])))\n",
    "\n",
    "    # remove entity from tmp_combination_targets and tmp_combination_predictions\n",
    "    list_delete_target_index = []\n",
    "    list_delete_prediction_index = []\n",
    "    for index, item in enumerate(tmp_combination_targets):\n",
    "      if item==tmp_combination_targets[max_index]:\n",
    "        list_delete_target_index.append(index)\n",
    "    for index, item in enumerate(tmp_combination_predictions):\n",
    "      if item==tmp_combination_predictions[max_index]:\n",
    "        list_delete_prediction_index.append(index)\n",
    "    list_select_index = []\n",
    "    for i in range(len(tmp_F1)):\n",
    "      if len(list_delete_prediction_index) > 0 and i==list_delete_prediction_index[0] and len(list_delete_target_index) > 0 and i==list_delete_target_index[0]:\n",
    "        list_delete_prediction_index.pop(0)\n",
    "        list_delete_target_index.pop(0)\n",
    "      elif len(list_delete_prediction_index) > 0 and i==list_delete_prediction_index[0]:\n",
    "        list_delete_prediction_index.pop(0)\n",
    "      elif len(list_delete_target_index) > 0 and i==list_delete_target_index[0]:\n",
    "        list_delete_target_index.pop(0)\n",
    "      else:\n",
    "        list_select_index.append(i)\n",
    "    if len(list_select_index) > 0:\n",
    "      tmp_F1 = torch.index_select(tmp_F1, 0, torch.tensor(list_select_index))\n",
    "      tmp_combination_targets = [item for i, item in enumerate(tmp_combination_targets) if i in list_select_index]\n",
    "      tmp_combination_predictions = [item for i, item in enumerate(tmp_combination_predictions) if i in list_select_index]\n",
    "    else:\n",
    "      tmp_F1 = torch.Tensor()\n",
    "      tmp_combination_targets = []\n",
    "      tmp_combination_predictions = []\n",
    "    assert len(tmp_combination_targets)==len(tmp_combination_predictions)\n",
    "    assert len(tmp_combination_predictions)==len(tmp_F1)"
   ]
  },
  {
   "cell_type": "code",
   "execution_count": 18,
   "metadata": {},
   "outputs": [
    {
     "data": {
      "text/plain": [
       "[('wikicat St. Mirren F.C. players', 'wikicat St. Mirren F.C. players'),\n",
       " ('wikicat People from Kansas City, Missouri',\n",
       "  'wikicat Film directors from Missouri'),\n",
       " ('wikicat Notts County F.C. players', 'wikicat Notts County F.C. players'),\n",
       " ('wikicat Former countries in the British Isles',\n",
       "  'wikicat States and territories established in 1649'),\n",
       " ('wikicat Provinces of Flanders', 'wikicat Provinces of Belgium'),\n",
       " ('wordnet county 108546183', 'wordnet county 108546183'),\n",
       " ('wikicat Indian film directors', 'wikicat Tamil film editors'),\n",
       " ('wikicat Cities and towns in Kozhikode district',\n",
       "  'wikicat Former Indian capital cities'),\n",
       " ('wordnet club 108227214', 'wordnet club 108227214'),\n",
       " ('wikicat Expatriate footballers in England',\n",
       "  'wikicat Expatriate footballers in Italy'),\n",
       " ('wikicat Villarreal CF footballers', 'wikicat Aston Villa F.C. players'),\n",
       " ('wikicat Sweden international footballers',\n",
       "  'wikicat Association football central defenders'),\n",
       " ('wikicat Serie A footballers', 'wikicat Degerfors IF players'),\n",
       " ('wikicat Brazilian footballers',\n",
       "  'wikicat Brazil youth international footballers'),\n",
       " ('wikicat People from Vukovar', 'wikicat People from Vukovar'),\n",
       " ('wikicat Serbian footballers', 'wikicat Yugoslav footballers')]"
      ]
     },
     "execution_count": 18,
     "metadata": {},
     "output_type": "execute_result"
    }
   ],
   "source": [
    "list_comb"
   ]
  },
  {
   "cell_type": "markdown",
   "metadata": {},
   "source": [
    "## listing all of the combination"
   ]
  },
  {
   "cell_type": "code",
   "execution_count": 31,
   "metadata": {},
   "outputs": [],
   "source": [
    "predictions_tokens = []\n",
    "targets_tokens = []\n",
    "for i in range(len(predictions)):\n",
    "  predictions_tokens.append([item.strip() for item in predictions[i].strip().split(\"[sep]\") if item!=\"\\n\" and item!=''])\n",
    "for i in range(len(targets)):\n",
    "  targets_tokens.append([item.strip() for item in targets[i].strip().split(\"[sep]\") if item!=\"\\n\" and item!=''])"
   ]
  },
  {
   "cell_type": "code",
   "execution_count": 46,
   "metadata": {},
   "outputs": [
    {
     "data": {
      "text/plain": [
       "[['wikicat Living people',\n",
       "  'wikicat Hartlepool United F.C. players',\n",
       "  'wikicat Clyde F.C. players',\n",
       "  'wikicat Dundee F.C. players',\n",
       "  'wikicat St. Mirren F.C. players',\n",
       "  'wikicat Scottish Football League managers',\n",
       "  'wikicat Scotland international footballers',\n",
       "  'wikicat Forfar Athletic F.C. players',\n",
       "  'wikicat Dumbarton F.C.'],\n",
       " ['wordnet person 100007846',\n",
       "  'wikicat Screenwriters',\n",
       "  'wikicat American people of English descent',\n",
       "  'wikicat People from Kansas City, Missouri',\n",
       "  'wikicat American film directors',\n",
       "  'wikicat Film producers',\n",
       "  'wikicat American screenwriters',\n",
       "  'wikicat American people',\n",
       "  'wikicat American film directors',\n",
       "  'wikicat American screenwriters',\n",
       "  'wikicat American people'],\n",
       " ['wikicat Football Conference players',\n",
       "  'wikicat Living people',\n",
       "  'wikicat The Football League players',\n",
       "  'wikicat Hartlepool United F.C. players',\n",
       "  'wikicat Peterborough United F.C. players',\n",
       "  'wikicat Notts County F.C. players',\n",
       "  'wikicat St Neots Town F.C. players',\n",
       "  'wikicat People from Corby Town',\n",
       "  'wikicat English footballers',\n",
       "  'wiki'],\n",
       " ['wikicat Former countries in Europe',\n",
       "  'wikicat Former countries in the British Isles',\n",
       "  'wikicat Former countries in Europe'],\n",
       " ['wikicat Provinces of Flanders',\n",
       "  'wordnet administrative district 108491826'],\n",
       " ['wordnet county 108546183', 'wikicat Michigan counties'],\n",
       " ['wordnet person 100007846',\n",
       "  'wikicat Indian film directors',\n",
       "  'wikicat Living people',\n",
       "  'wikicat People from Mumbai',\n",
       "  'wikicat Indian screenwriters'],\n",
       " ['wikicat Cities and towns in Kozhikode district',\n",
       "  'wordnet administrative district 108491826'],\n",
       " ['wordnet club 108227214',\n",
       "  'wikicat Basketball teams in Spain',\n",
       "  'wikicat Sports clubs established in 1912'],\n",
       " ['wikicat Serie A footballers',\n",
       "  'wikicat Premier League players',\n",
       "  'wikicat Living people',\n",
       "  'wikicat Villarreal CF footballers',\n",
       "  'wikicat The Football League players',\n",
       "  'wikicat Sweden international footballers',\n",
       "  'wikicat Swedish expatriate footballers',\n",
       "  'wikicat Expatriate footballers in England',\n",
       "  'wikicat Expatriate footballers in England',\n",
       "  'wikicat Exp']]"
      ]
     },
     "execution_count": 46,
     "metadata": {},
     "output_type": "execute_result"
    }
   ],
   "source": [
    "predictions_tokens[0:10]"
   ]
  },
  {
   "cell_type": "code",
   "execution_count": 34,
   "metadata": {},
   "outputs": [
    {
     "data": {
      "text/plain": [
       "[['wikicat St. Mirren F.C. players'],\n",
       " ['wikicat Film directors from Missouri'],\n",
       " ['wikicat Notts County F.C. players'],\n",
       " ['wikicat States and territories established in 1649'],\n",
       " ['wikicat Provinces of Belgium'],\n",
       " ['wordnet county 108546183'],\n",
       " ['wikicat Tamil film editors'],\n",
       " ['wikicat Former Indian capital cities'],\n",
       " ['wordnet club 108227214'],\n",
       " ['wikicat Degerfors IF players',\n",
       "  'wikicat Expatriate footballers in Italy',\n",
       "  'wikicat Association football central defenders',\n",
       "  'wikicat Aston Villa F.C. players']]"
      ]
     },
     "execution_count": 34,
     "metadata": {},
     "output_type": "execute_result"
    }
   ],
   "source": [
    "targets_tokens[0:10]"
   ]
  },
  {
   "cell_type": "code",
   "execution_count": 86,
   "metadata": {},
   "outputs": [],
   "source": [
    "list_all_combination_target = []\n",
    "list_all_combination_prediction = []\n",
    "list_combination_count = []\n",
    "for i in range(len(targets_tokens)):\n",
    "  for j in range(len(targets_tokens[i])):\n",
    "    for l in range(len(predictions_tokens[i])):\n",
    "      list_all_combination_target.append(targets_tokens[i][j])\n",
    "      list_all_combination_prediction.append(predictions_tokens[i][l])\n",
    "  list_combination_count.append(len(targets_tokens[i]) * len(predictions_tokens[i]))\n",
    "  break"
   ]
  },
  {
   "cell_type": "code",
   "execution_count": 87,
   "metadata": {},
   "outputs": [
    {
     "data": {
      "text/plain": [
       "[9]"
      ]
     },
     "execution_count": 87,
     "metadata": {},
     "output_type": "execute_result"
    }
   ],
   "source": [
    "list_combination_count"
   ]
  },
  {
   "cell_type": "code",
   "execution_count": 88,
   "metadata": {},
   "outputs": [],
   "source": [
    "from bert_score import BERTScorer\n",
    "scorer = BERTScorer(lang=\"en\")\n",
    "Precision, Recall, F1 = scorer.score(list_all_combination_prediction, list_all_combination_target)"
   ]
  },
  {
   "cell_type": "code",
   "execution_count": 89,
   "metadata": {},
   "outputs": [
    {
     "data": {
      "text/plain": [
       "tensor([0.8954, 0.9452, 0.9727, 0.9771, 1.0000, 0.9111, 0.9174, 0.9588, 0.9556])"
      ]
     },
     "execution_count": 89,
     "metadata": {},
     "output_type": "execute_result"
    }
   ],
   "source": [
    "Precision"
   ]
  },
  {
   "cell_type": "code",
   "execution_count": 90,
   "metadata": {},
   "outputs": [
    {
     "data": {
      "text/plain": [
       "tensor([0.8725, 0.9564, 0.9474, 0.9677, 1.0000, 0.9109, 0.9144, 0.9574, 0.9381])"
      ]
     },
     "execution_count": 90,
     "metadata": {},
     "output_type": "execute_result"
    }
   ],
   "source": [
    "Recall"
   ]
  },
  {
   "cell_type": "code",
   "execution_count": 91,
   "metadata": {},
   "outputs": [
    {
     "data": {
      "text/plain": [
       "tensor([0.8838, 0.9508, 0.9599, 0.9724, 1.0000, 0.9110, 0.9159, 0.9581, 0.9467])"
      ]
     },
     "execution_count": 91,
     "metadata": {},
     "output_type": "execute_result"
    }
   ],
   "source": [
    "F1"
   ]
  },
  {
   "cell_type": "code",
   "execution_count": 92,
   "metadata": {},
   "outputs": [
    {
     "data": {
      "text/plain": [
       "['wikicat St. Mirren F.C. players',\n",
       " 'wikicat St. Mirren F.C. players',\n",
       " 'wikicat St. Mirren F.C. players',\n",
       " 'wikicat St. Mirren F.C. players',\n",
       " 'wikicat St. Mirren F.C. players',\n",
       " 'wikicat St. Mirren F.C. players',\n",
       " 'wikicat St. Mirren F.C. players',\n",
       " 'wikicat St. Mirren F.C. players',\n",
       " 'wikicat St. Mirren F.C. players']"
      ]
     },
     "execution_count": 92,
     "metadata": {},
     "output_type": "execute_result"
    }
   ],
   "source": [
    "list_all_combination_target"
   ]
  },
  {
   "cell_type": "code",
   "execution_count": 93,
   "metadata": {},
   "outputs": [
    {
     "data": {
      "text/plain": [
       "['wikicat Living people',\n",
       " 'wikicat Hartlepool United F.C. players',\n",
       " 'wikicat Clyde F.C. players',\n",
       " 'wikicat Dundee F.C. players',\n",
       " 'wikicat St. Mirren F.C. players',\n",
       " 'wikicat Scottish Football League managers',\n",
       " 'wikicat Scotland international footballers',\n",
       " 'wikicat Forfar Athletic F.C. players',\n",
       " 'wikicat Dumbarton F.C.']"
      ]
     },
     "execution_count": 93,
     "metadata": {},
     "output_type": "execute_result"
    }
   ],
   "source": [
    "list_all_combination_prediction"
   ]
  },
  {
   "cell_type": "code",
   "execution_count": 94,
   "metadata": {},
   "outputs": [],
   "source": [
    "def cumsum(comb_list: list):\n",
    "  sum_comb_list = []\n",
    "  sum = 0\n",
    "  for item in comb_list:\n",
    "    sum_comb_list.append(sum+item)\n",
    "    sum += item\n",
    "  return sum_comb_list\n",
    "list_combination_count = [0] + list_combination_count\n",
    "sum = 0\n",
    "sum_combination_count = cumsum(list_combination_count)\n",
    "  "
   ]
  },
  {
   "cell_type": "code",
   "execution_count": 141,
   "metadata": {},
   "outputs": [],
   "source": [
    "import torch\n",
    "for i in range(1,len(list_combination_count)):\n",
    "  tmp_combination_targets = list_all_combination_target[sum_combination_count[i-1]:sum_combination_count[i]]\n",
    "  tmp_combination_predictions = list_all_combination_prediction[sum_combination_count[i-1]:sum_combination_count[i]]\n",
    "  tmp_Precision = Precision[sum_combination_count[i-1]:sum_combination_count[i]]\n",
    "  tmp_Recall = Recall[sum_combination_count[i-1]:sum_combination_count[i]]\n",
    "  tmp_F1 = F1[sum_combination_count[i-1]:sum_combination_count[i]]\n",
    "  assert len(tmp_combination_targets)==len(tmp_combination_predictions)\n",
    "  assert len(tmp_combination_predictions)==len(tmp_F1)\n",
    "\n",
    "  # get max index\n",
    "  max_index = torch.argmax(tmp_F1)\n",
    "\n",
    "  # get combination\n",
    "  list_comb = []\n",
    "  list_comb.append(tuple((tmp_combination_predictions[max_index], tmp_combination_targets[max_index])))\n",
    "\n",
    "  # remove entity from tmp_combination_targets and tmp_combination_predictions\n",
    "  list_delete_target_index = []\n",
    "  list_delete_prediction_index = []\n",
    "  for index, item in enumerate(tmp_combination_targets):\n",
    "    if item==tmp_combination_targets[max_index]:\n",
    "      list_delete_target_index.append(index)\n",
    "  for index, item in enumerate(tmp_combination_predictions):\n",
    "    if item==tmp_combination_predictions[max_index]:\n",
    "      list_delete_prediction_index.append(index)\n",
    "  tmp_combination_targets = [item for item in tmp_combination_targets if item!=tmp_combination_targets[max_index]]\n",
    "  tmp_combination_predictions = [item for item in tmp_combination_predictions if item!=tmp_combination_predictions[max_index]]\n",
    "  list_select_index = []\n",
    "  for i in range(len(tmp_F1)):\n",
    "    if len(list_delete_prediction_index) > 0 and i==list_delete_prediction_index[0] and len(list_delete_target_index) > 0 and i==list_delete_target_index[0]:\n",
    "      list_delete_prediction_index.pop(0)\n",
    "      list_delete_target_index.pop(0)\n",
    "    elif len(list_delete_prediction_index) > 0 and i==list_delete_prediction_index[0]:\n",
    "      list_delete_prediction_index.pop(0)\n",
    "    elif len(list_delete_target_index) > 0 and i==list_delete_target_index[0]:\n",
    "      list_delete_target_index.pop(0)\n",
    "    else:\n",
    "      list_select_index.append(i)\n",
    "  if len(list_select_index) > 0:\n",
    "    torch.index_select(tmp_F1, 0, torch.tensor(list_select_index))\n",
    "  else:\n",
    "    tmp_F1 = torch.Tensor()\n",
    "\n",
    "    "
   ]
  },
  {
   "cell_type": "code",
   "execution_count": 142,
   "metadata": {},
   "outputs": [
    {
     "data": {
      "text/plain": [
       "0"
      ]
     },
     "execution_count": 142,
     "metadata": {},
     "output_type": "execute_result"
    }
   ],
   "source": [
    "len(tmp_F1)"
   ]
  },
  {
   "cell_type": "code",
   "execution_count": 130,
   "metadata": {},
   "outputs": [
    {
     "data": {
      "text/plain": [
       "[]"
      ]
     },
     "execution_count": 130,
     "metadata": {},
     "output_type": "execute_result"
    }
   ],
   "source": [
    "tmp_combination_targets"
   ]
  },
  {
   "cell_type": "code",
   "execution_count": 134,
   "metadata": {},
   "outputs": [
    {
     "data": {
      "text/plain": [
       "8"
      ]
     },
     "execution_count": 134,
     "metadata": {},
     "output_type": "execute_result"
    }
   ],
   "source": [
    "len(tmp_combination_predictions)"
   ]
  },
  {
   "cell_type": "code",
   "execution_count": 104,
   "metadata": {},
   "outputs": [
    {
     "data": {
      "text/plain": [
       "[('wikicat St. Mirren F.C. players', 'wikicat St. Mirren F.C. players')]"
      ]
     },
     "execution_count": 104,
     "metadata": {},
     "output_type": "execute_result"
    }
   ],
   "source": [
    "list_comb"
   ]
  },
  {
   "cell_type": "code",
   "execution_count": 95,
   "metadata": {},
   "outputs": [
    {
     "data": {
      "text/plain": [
       "[0, 9]"
      ]
     },
     "execution_count": 95,
     "metadata": {},
     "output_type": "execute_result"
    }
   ],
   "source": [
    "#list_combination_count"
   ]
  },
  {
   "cell_type": "code",
   "execution_count": 96,
   "metadata": {},
   "outputs": [
    {
     "data": {
      "text/plain": [
       "[0, 9]"
      ]
     },
     "execution_count": 96,
     "metadata": {},
     "output_type": "execute_result"
    }
   ],
   "source": [
    "sum_combination_count"
   ]
  },
  {
   "cell_type": "code",
   "execution_count": 97,
   "metadata": {},
   "outputs": [
    {
     "data": {
      "text/plain": [
       "['wikicat St. Mirren F.C. players',\n",
       " 'wikicat St. Mirren F.C. players',\n",
       " 'wikicat St. Mirren F.C. players',\n",
       " 'wikicat St. Mirren F.C. players',\n",
       " 'wikicat St. Mirren F.C. players',\n",
       " 'wikicat St. Mirren F.C. players',\n",
       " 'wikicat St. Mirren F.C. players',\n",
       " 'wikicat St. Mirren F.C. players',\n",
       " 'wikicat St. Mirren F.C. players']"
      ]
     },
     "execution_count": 97,
     "metadata": {},
     "output_type": "execute_result"
    }
   ],
   "source": [
    "tmp_combination_targets"
   ]
  },
  {
   "cell_type": "markdown",
   "metadata": {},
   "source": [
    "## Pick up high probability"
   ]
  },
  {
   "cell_type": "code",
   "execution_count": null,
   "metadata": {},
   "outputs": [],
   "source": []
  },
  {
   "cell_type": "code",
   "execution_count": null,
   "metadata": {},
   "outputs": [],
   "source": []
  },
  {
   "cell_type": "code",
   "execution_count": 108,
   "metadata": {},
   "outputs": [
    {
     "name": "stdout",
     "output_type": "stream",
     "text": [
      "tensor([1, 2, 4])\n"
     ]
    }
   ],
   "source": [
    "i = 2\n",
    "T = torch.tensor([1,2,3,4,5])\n",
    "T = torch.cat([T[0:i], T[i+1:-1]])\n",
    "print(T)"
   ]
  },
  {
   "cell_type": "code",
   "execution_count": 112,
   "metadata": {},
   "outputs": [
    {
     "name": "stdout",
     "output_type": "stream",
     "text": [
      "tensor([2, 3, 4, 5])\n"
     ]
    }
   ],
   "source": [
    "i = 0\n",
    "T = torch.tensor([1,2,3,4,5])\n",
    "T = torch.cat([T[0:i], T[i+1:]])\n",
    "print(T)"
   ]
  },
  {
   "cell_type": "code",
   "execution_count": 113,
   "metadata": {},
   "outputs": [
    {
     "data": {
      "text/plain": [
       "tensor([[-0.1197, -1.3430],\n",
       "        [-0.4491, -0.8478],\n",
       "        [ 0.6152,  0.1116]])"
      ]
     },
     "execution_count": 113,
     "metadata": {},
     "output_type": "execute_result"
    }
   ],
   "source": [
    "x = torch.randn(3, 4)\n",
    "x\n",
    "indices = torch.tensor([0, 2])\n",
    "torch.index_select(x, 0, indices)\n",
    "torch.index_select(x, 1, indices)"
   ]
  },
  {
   "cell_type": "code",
   "execution_count": 136,
   "metadata": {},
   "outputs": [
    {
     "name": "stdout",
     "output_type": "stream",
     "text": [
      "tensor([ 0.1459, -0.5278, -0.7948])\n"
     ]
    },
    {
     "data": {
      "text/plain": [
       "tensor([ 0.1459, -0.5278,  0.1459])"
      ]
     },
     "execution_count": 136,
     "metadata": {},
     "output_type": "execute_result"
    }
   ],
   "source": [
    "x = torch.randn(3)\n",
    "print(x)\n",
    "indices = torch.tensor([0, 1, 0])\n",
    "torch.index_select(x, 0, indices)\n",
    "# torch.index_select(x, 1, indices)"
   ]
  },
  {
   "cell_type": "code",
   "execution_count": 124,
   "metadata": {},
   "outputs": [
    {
     "data": {
      "text/plain": [
       "[1, 2, 3]"
      ]
     },
     "execution_count": 124,
     "metadata": {},
     "output_type": "execute_result"
    }
   ],
   "source": [
    "tmp = [0,1,2,3]\n",
    "tmp.pop(0)\n",
    "tmp"
   ]
  },
  {
   "cell_type": "markdown",
   "metadata": {},
   "source": [
    "# Bert Classification"
   ]
  },
  {
   "cell_type": "code",
   "execution_count": 30,
   "metadata": {},
   "outputs": [],
   "source": [
    "from bert_score import BERTScorer\n",
    "import torch\n",
    "import nltk.translate.bleu_score as bleu\n",
    "def bert_classification(predictions_tokens, targets_tokens):\n",
    "  \"\"\"\n",
    "  input:\n",
    "  predictions_tokens: 2dim list (num_predictions x num_separated_tokens)\n",
    "  targets_tokens: 2dim list (num_targets x num_separated_tokens)\n",
    "\n",
    "  output:\n",
    "  predicts: 1dim list\n",
    "  targets: 1dim list\n",
    "\n",
    "  e.g.\n",
    "  predictions_tokens\n",
    "  [['wikicat Living people',\n",
    "  'wikicat Hartlepool United F.C. players',\n",
    "  'wikicat Clyde F.C. players',\n",
    "  'wikicat Dundee F.C. players',\n",
    "  'wikicat St. Mirren F.C. players',\n",
    "  'wikicat Scottish Football League managers',\n",
    "  'wikicat Scotland international footballers',\n",
    "  'wikicat Forfar Athletic F.C. players',\n",
    "  'wikicat Dumbarton F.C.'],\n",
    " ['wordnet person 100007846',\n",
    "  'wikicat Screenwriters',\n",
    "  'wikicat American people of English descent',\n",
    "  'wikicat People from Kansas City, Missouri',\n",
    "  'wikicat American film directors',\n",
    "  'wikicat Film producers',\n",
    "  'wikicat American screenwriters',\n",
    "  'wikicat American people',\n",
    "  'wikicat American film directors',\n",
    "  'wikicat American screenwriters',\n",
    "  'wikicat American people'],\n",
    " ['wikicat Football Conference players',\n",
    "  'wikicat Living people',\n",
    "  'wikicat The Football League players',\n",
    "  'wikicat Hartlepool United F.C. players',\n",
    "  'wikicat Peterborough United F.C. players',\n",
    "...\n",
    " ['wikicat Former countries in Europe',\n",
    "  'wikicat Former countries in the British Isles',\n",
    "  'wikicat Former countries in Europe'],\n",
    " ['wikicat Provinces of Flanders',\n",
    "  'wordnet administrative district 108491826']]\n",
    "\n",
    "  targets_tokens\n",
    "  [['wikicat St. Mirren F.C. players'],\n",
    "  ['wikicat Film directors from Missouri'],\n",
    "  ['wikicat Notts County F.C. players'],\n",
    "  ['wikicat States and territories established in 1649'],\n",
    "  ['wikicat Provinces of Belgium']]\n",
    "\n",
    "\n",
    "  output:\n",
    "  predicts\n",
    "  ['wikicat St. Mirren F.C. players', 'wikicat People from Kansas City, Missouri', 'wikicat Notts County F.C. players', 'wikicat Former countries in the British Isles', 'wikicat Provinces of Flanders']\n",
    "\n",
    "  targets:\n",
    "  ['wikicat St. Mirren F.C. players', 'wikicat Film directors from Missouri', 'wikicat Notts County F.C. players', 'wikicat States and territories established in 1649', 'wikicat Provinces of Belgium']\n",
    "  \"\"\"\n",
    "  list_all_combination_target = []\n",
    "  list_all_combination_prediction = []\n",
    "  list_combination_count = []\n",
    "  for i in range(len(targets_tokens)):\n",
    "    for j in range(len(targets_tokens[i])):\n",
    "      for l in range(len(predictions_tokens[i])):\n",
    "        list_all_combination_target.append(targets_tokens[i][j])\n",
    "        list_all_combination_prediction.append(predictions_tokens[i][l])\n",
    "    list_combination_count.append(len(targets_tokens[i]) * len(predictions_tokens[i]))\n",
    "    if i > 10:\n",
    "      break\n",
    "\n",
    "  scorer = BERTScorer(lang=\"en\")\n",
    "  Precision, Recall, F1 = scorer.score(list_all_combination_prediction, list_all_combination_target)\n",
    "\n",
    "  def cumsum(comb_list: list):\n",
    "    sum_comb_list = []\n",
    "    sum = 0\n",
    "    for item in comb_list:\n",
    "      sum_comb_list.append(sum+item)\n",
    "      sum += item\n",
    "    return sum_comb_list\n",
    "  list_combination_count_with_zero = [0] + list_combination_count\n",
    "  sum = 0\n",
    "  sum_combination_count = cumsum(list_combination_count_with_zero)\n",
    "    \n",
    "  list_comb = []\n",
    "  for i in range(1,len(list_combination_count_with_zero)):\n",
    "    tmp_combination_targets = list_all_combination_target[sum_combination_count[i-1]:sum_combination_count[i]]\n",
    "    tmp_combination_predictions = list_all_combination_prediction[sum_combination_count[i-1]:sum_combination_count[i]]\n",
    "    tmp_Precision = Precision[sum_combination_count[i-1]:sum_combination_count[i]]\n",
    "    tmp_Recall = Recall[sum_combination_count[i-1]:sum_combination_count[i]]\n",
    "    tmp_F1 = F1[sum_combination_count[i-1]:sum_combination_count[i]]\n",
    "    assert len(tmp_combination_targets)==len(tmp_combination_predictions)\n",
    "    assert len(tmp_combination_predictions)==len(tmp_F1)\n",
    "\n",
    "    # loop until tmp_F1 is null\n",
    "    while len(tmp_F1) != 0:\n",
    "      # get max index\n",
    "      max_index = torch.argmax(tmp_F1)\n",
    "\n",
    "      # get combination\n",
    "      list_comb.append(tuple((tmp_combination_predictions[max_index], tmp_combination_targets[max_index])))\n",
    "\n",
    "      # remove entity from tmp_combination_targets and tmp_combination_predictions\n",
    "      list_delete_target_index = []\n",
    "      list_delete_prediction_index = []\n",
    "      for index, item in enumerate(tmp_combination_targets):\n",
    "        if item==tmp_combination_targets[max_index]:\n",
    "          list_delete_target_index.append(index)\n",
    "      for index, item in enumerate(tmp_combination_predictions):\n",
    "        if item==tmp_combination_predictions[max_index]:\n",
    "          list_delete_prediction_index.append(index)\n",
    "      list_select_index = []\n",
    "      for i in range(len(tmp_F1)):\n",
    "        if len(list_delete_prediction_index) > 0 and i==list_delete_prediction_index[0] and len(list_delete_target_index) > 0 and i==list_delete_target_index[0]:\n",
    "          list_delete_prediction_index.pop(0)\n",
    "          list_delete_target_index.pop(0)\n",
    "        elif len(list_delete_prediction_index) > 0 and i==list_delete_prediction_index[0]:\n",
    "          list_delete_prediction_index.pop(0)\n",
    "        elif len(list_delete_target_index) > 0 and i==list_delete_target_index[0]:\n",
    "          list_delete_target_index.pop(0)\n",
    "        else:\n",
    "          list_select_index.append(i)\n",
    "      if len(list_select_index) > 0:\n",
    "        tmp_F1 = torch.index_select(tmp_F1, 0, torch.tensor(list_select_index))\n",
    "        tmp_combination_targets = [item for i, item in enumerate(tmp_combination_targets) if i in list_select_index]\n",
    "        tmp_combination_predictions = [item for i, item in enumerate(tmp_combination_predictions) if i in list_select_index]\n",
    "      else:\n",
    "        tmp_F1 = torch.Tensor()\n",
    "        tmp_combination_targets = []\n",
    "        tmp_combination_predictions = []\n",
    "      assert len(tmp_combination_targets)==len(tmp_combination_predictions)\n",
    "      assert len(tmp_combination_predictions)==len(tmp_F1)\n",
    "\n",
    "  def get_target_predict(list_comb):\n",
    "    predicts = []\n",
    "    targets = []\n",
    "    for index_list_comb in range(len(list_comb)):\n",
    "      predict, target = list_comb[index_list_comb]\n",
    "      predicts.append(predict)\n",
    "      targets.append(target)\n",
    "    return predicts, targets\n",
    "  predicts, targets = get_target_predict(list_comb)\n",
    "  return predicts, targets"
   ]
  },
  {
   "cell_type": "code",
   "execution_count": 25,
   "metadata": {},
   "outputs": [],
   "source": [
    "with open(os.path.join(f'Exp/Exp62/save/ET_test_outputs_test.txt'), 'r', encoding='utf-8') as f:\n",
    "    predictions = f.readlines()\n",
    "with open(os.path.join(f'Exp/Exp62/save/ET_test_targets_test.txt'), 'r', encoding='utf-8') as f:\n",
    "    targets = f.readlines()"
   ]
  },
  {
   "cell_type": "code",
   "execution_count": 26,
   "metadata": {},
   "outputs": [],
   "source": [
    "predictions_tokens = []\n",
    "targets_tokens = []\n",
    "for i in range(len(predictions)):\n",
    "  predictions_tokens.append([item.strip() for item in predictions[i].strip().split(\"[sep]\") if item!=\"\\n\" and item!=''])\n",
    "for i in range(len(targets)):\n",
    "  targets_tokens.append([item.strip() for item in targets[i].strip().split(\"[sep]\") if item!=\"\\n\" and item!=''])"
   ]
  },
  {
   "cell_type": "code",
   "execution_count": 31,
   "metadata": {},
   "outputs": [],
   "source": [
    "prds, tgts = calc_bert_classification(predictions_tokens, targets_tokens)"
   ]
  },
  {
   "cell_type": "code",
   "execution_count": 38,
   "metadata": {},
   "outputs": [
    {
     "name": "stdout",
     "output_type": "stream",
     "text": [
      "['wikicat St. Mirren F.C. players', 'wikicat People from Kansas City, Missouri', 'wikicat Notts County F.C. players', 'wikicat Former countries in the British Isles', 'wikicat Provinces of Flanders']\n"
     ]
    }
   ],
   "source": [
    "print(prds[:5])"
   ]
  },
  {
   "cell_type": "code",
   "execution_count": 39,
   "metadata": {},
   "outputs": [
    {
     "name": "stdout",
     "output_type": "stream",
     "text": [
      "['wikicat St. Mirren F.C. players', 'wikicat Film directors from Missouri', 'wikicat Notts County F.C. players', 'wikicat States and territories established in 1649', 'wikicat Provinces of Belgium']\n"
     ]
    }
   ],
   "source": [
    "print(tgts[:5])"
   ]
  },
  {
   "cell_type": "code",
   "execution_count": null,
   "metadata": {},
   "outputs": [],
   "source": []
  }
 ],
 "metadata": {
  "kernelspec": {
   "display_name": "Python 3.8.13 64-bit ('3.8.13')",
   "language": "python",
   "name": "python3"
  },
  "language_info": {
   "codemirror_mode": {
    "name": "ipython",
    "version": 3
   },
   "file_extension": ".py",
   "mimetype": "text/x-python",
   "name": "python",
   "nbconvert_exporter": "python",
   "pygments_lexer": "ipython3",
   "version": "3.8.13"
  },
  "orig_nbformat": 4,
  "vscode": {
   "interpreter": {
    "hash": "e4b3543e83a17048d5f78c85e73627313909be79a9b2f7451e18400661f5b78b"
   }
  }
 },
 "nbformat": 4,
 "nbformat_minor": 2
}
